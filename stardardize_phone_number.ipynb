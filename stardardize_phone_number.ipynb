{
  "nbformat": 4,
  "nbformat_minor": 0,
  "metadata": {
    "colab": {
      "provenance": [],
      "authorship_tag": "ABX9TyO8xPKZ2/KS7AqPgU2Bqv2+",
      "include_colab_link": true
    },
    "kernelspec": {
      "name": "python3",
      "display_name": "Python 3"
    },
    "language_info": {
      "name": "python"
    }
  },
  "cells": [
    {
      "cell_type": "markdown",
      "metadata": {
        "id": "view-in-github",
        "colab_type": "text"
      },
      "source": [
        "<a href=\"https://colab.research.google.com/github/zhouy185/exercise-standardize_phone_no/blob/main/stardardize_phone_number.ipynb\" target=\"_parent\"><img src=\"https://colab.research.google.com/assets/colab-badge.svg\" alt=\"Open In Colab\"/></a>"
      ]
    },
    {
      "cell_type": "markdown",
      "source": [
        "# Standardizing Phone Numbers\n",
        "\n",
        "In this exercise, we will convert phone numbers in a data file to a standard format.\n",
        "\n",
        "To start, let's import the data from a csv file:\n",
        "* [customer_contacts.csv](https://raw.githubusercontent.com/zhouy185/BUS_O712/refs/heads/main/Data/customer_contacts.csv)"
      ],
      "metadata": {
        "id": "YAarI3A2c3dT"
      }
    },
    {
      "cell_type": "code",
      "execution_count": 5,
      "metadata": {
        "id": "XcFAH76opDtv"
      },
      "outputs": [],
      "source": [
        "# Load the data from a csv file and view it.\n",
        "\n"
      ]
    },
    {
      "cell_type": "markdown",
      "source": [
        "**Task**: Convert the phone numbers into the 10-digit standard format XXX-XXX-XXX; e.g., 905-525-9140.\n",
        "\n",
        "You may ask Gemini to generate the code and test it."
      ],
      "metadata": {
        "id": "-Y5A7U3HpM91"
      }
    },
    {
      "cell_type": "code",
      "metadata": {
        "id": "6192aa65"
      },
      "source": [
        "# Use one or mode code cells to complete the task"
      ],
      "execution_count": 6,
      "outputs": []
    }
  ]
}